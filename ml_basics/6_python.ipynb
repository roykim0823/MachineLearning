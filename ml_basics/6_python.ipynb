{
 "cells": [
  {
   "cell_type": "markdown",
   "metadata": {},
   "source": [
    "## Basics"
   ]
  },
  {
   "cell_type": "code",
   "execution_count": 1,
   "metadata": {},
   "outputs": [
    {
     "name": "stdout",
     "output_type": "stream",
     "text": [
      "0\n",
      "1\n",
      "2\n",
      "3\n",
      "4\n",
      "0 0\n",
      "1 1\n",
      "2 2\n",
      "3 3\n",
      "4 4\n",
      "0 cat\n",
      "1 dog\n",
      "2 horse\n"
     ]
    }
   ],
   "source": [
    "# enumerate\n",
    "\n",
    "for value in range(5):\n",
    "    print(value)\n",
    "\n",
    "for idx, value in enumerate(range(5)):\n",
    "    print(idx, value)\n",
    "\n",
    "animals = ['cat', 'dog', 'horse']\n",
    "\n",
    "for idx, value in enumerate(animals):\n",
    "    print(idx, value)\n"
   ]
  },
  {
   "cell_type": "code",
   "execution_count": 5,
   "metadata": {},
   "outputs": [
    {
     "name": "stdout",
     "output_type": "stream",
     "text": [
      "0\n",
      "1\n",
      "1\n",
      "2\n",
      "3\n",
      "5\n",
      "8\n",
      "13\n",
      "21\n",
      "34\n",
      "55\n",
      "89\n"
     ]
    }
   ],
   "source": [
    "# fibonacci num\n",
    "# f(n) = f(n-1) + f(n-2)\n",
    "\n",
    "def fib(n):\n",
    "    a, b = 0, 1\n",
    "\n",
    "    while a < n:\n",
    "        print(a)\n",
    "        a, b, = b, a+b\n",
    "\n",
    "fib(100)"
   ]
  },
  {
   "cell_type": "markdown",
   "metadata": {},
   "source": [
    "### Python Object"
   ]
  },
  {
   "cell_type": "code",
   "execution_count": 1,
   "metadata": {},
   "outputs": [
    {
     "name": "stdout",
     "output_type": "stream",
     "text": [
      "4309901848 4309901848\n",
      "True True\n",
      "<class 'int'> <class 'int'>\n",
      "\n",
      "0b1010\n",
      "4\n",
      "4309901880 4309901848\n",
      "False False\n",
      "\n",
      "4309901880 4309901880\n",
      "True True\n",
      "\n",
      "100000000000000000000000000000000000000000000000000000000000011\n",
      "<class 'int'>\n"
     ]
    }
   ],
   "source": [
    "a = 10\n",
    "b = 10\n",
    "print(id(a), id(b))\n",
    "print(a == b, a is b)  # True, a and b point to the same object\n",
    "print(type(a), type(b))\n",
    "print()\n",
    "print(bin(a))\n",
    "print(a.bit_length())\n",
    "\n",
    "\n",
    "a = a + 1\n",
    "print(id(a), id(b))\n",
    "print(a == b, a is b)  # False, a points to different object\n",
    "print()\n",
    "\n",
    "c = 11\n",
    "print(id(a), id(c))\n",
    "print(a == c, a is c)\n",
    "print()\n",
    "\n",
    "a += 100000000000000000000000000000000000000000000000000000000000000\n",
    "print(a)\n",
    "print(type(a))"
   ]
  },
  {
   "cell_type": "markdown",
   "metadata": {},
   "source": [
    "## Functions"
   ]
  },
  {
   "cell_type": "code",
   "execution_count": 11,
   "metadata": {},
   "outputs": [
    {
     "name": "stdout",
     "output_type": "stream",
     "text": [
      "<class 'str'>\n",
      "The name of the person is: Kevin\n",
      "The age of the person is 10\n",
      "<class 'str'>\n",
      "The name of the person is: Tom\n",
      "The age of the person is 10\n"
     ]
    }
   ],
   "source": [
    "def show_name(name, age):\n",
    "    print(type(name))\n",
    "    print(\"The name of the person is: \" + name)\n",
    "    print(\"The age of the person is {}\".format(age))\n",
    "\n",
    "show_name(\"Kevin\", 10)  # Positaional Arguments - the order does matter\n",
    "show_name(age=10, name=\"Tom\")  # Keyword Arguments - the order does not matter"
   ]
  },
  {
   "cell_type": "code",
   "execution_count": 6,
   "metadata": {},
   "outputs": [
    {
     "name": "stdout",
     "output_type": "stream",
     "text": [
      "<class 'tuple'>\n",
      "0 Kevin <class 'str'>\n",
      "1 Adam <class 'str'>\n",
      "2 Joe <class 'str'>\n",
      "<class 'tuple'>\n",
      "0 Kevin <class 'str'>\n",
      "1 10 <class 'int'>\n"
     ]
    }
   ],
   "source": [
    "# *args: variable positional arguments\n",
    "def show_names(*names):\n",
    "    print(type(names))\n",
    "    for idx, name in enumerate(names):\n",
    "        print(idx, name, type(name))\n",
    "\n",
    "show_names(\"Kevin\", \"Adam\", \"Joe\")\n",
    "show_names(\"Kevin\", 10)"
   ]
  },
  {
   "cell_type": "code",
   "execution_count": 10,
   "metadata": {},
   "outputs": [
    {
     "name": "stdout",
     "output_type": "stream",
     "text": [
      "fname <class 'str'> Kevin <class 'str'>\n",
      "lname <class 'str'> Joe <class 'str'>\n",
      "age <class 'str'> 20 <class 'int'>\n",
      "gender <class 'str'> male <class 'str'>\n"
     ]
    }
   ],
   "source": [
    "# **kargs: an arbitrary number of keyword arguments\n",
    "def show_names_(**params):\n",
    "    # so it is a  dictionary with key and value pairs\n",
    "    for keyword, argument in params.items():\n",
    "        print(keyword, type(keyword), argument, type(argument))\n",
    "\n",
    "show_names_(fname=\"Kevin\", lname=\"Joe\", age=20, gender=\"male\")"
   ]
  },
  {
   "cell_type": "code",
   "execution_count": 14,
   "metadata": {},
   "outputs": [
    {
     "name": "stdout",
     "output_type": "stream",
     "text": [
      "6\n",
      "(False, 0)\n",
      "(True, 1, 'this is a even number.')\n"
     ]
    }
   ],
   "source": [
    "# return\n",
    "def mul(num1, num2):\n",
    "    return num1 * num2\n",
    "\n",
    "# return multiple values\n",
    "def op(x):\n",
    "    if x % 2 ==0:\n",
    "        return True, 1, 'this is a even number.'\n",
    "    return False, 0\n",
    "\n",
    "print(mul(2, 3))\n",
    "print(op(1))\n",
    "print(op(2))"
   ]
  },
  {
   "cell_type": "code",
   "execution_count": 17,
   "metadata": {},
   "outputs": [
    {
     "name": "stdout",
     "output_type": "stream",
     "text": [
      "0\n",
      "0\n",
      "2\n",
      "4\n",
      "6\n",
      "8\n"
     ]
    }
   ],
   "source": [
    "# yield : it produces a sequence of values (objects). It can resume execution!\n",
    "\n",
    "def producer():\n",
    "    for num in range(10):\n",
    "        if num % 2 == 0:\n",
    "            return num\n",
    "\n",
    "print(producer())\n",
    "\n",
    "def producer_yield():\n",
    "    for num in range(10):\n",
    "        if num % 2 == 0:\n",
    "            yield num\n",
    "\n",
    "for num in producer_yield():\n",
    "    print(num)\n"
   ]
  },
  {
   "cell_type": "markdown",
   "metadata": {},
   "source": [
    "## Data Structure"
   ]
  },
  {
   "cell_type": "code",
   "execution_count": 1,
   "metadata": {},
   "outputs": [
    {
     "name": "stdout",
     "output_type": "stream",
     "text": [
      "[0, 10, 100, 20, 34]\n",
      "[0, 10, 100, 20, 34]\n"
     ]
    }
   ],
   "source": [
    "# list comprehension: allows us to create a new list based on existing values of another list\n",
    "\n",
    "numbers = [1, -5, 0, 10, 100, 67, 55, 20, 34]\n",
    "\n",
    "new_list = []\n",
    "\n",
    "for num in numbers:\n",
    "    if num % 2 == 0:\n",
    "        new_list.append(num)\n",
    "print(new_list)\n",
    "\n",
    "new_list_from_listcomp = [num for num in numbers if num % 2 == 0]\n",
    "print(new_list_from_listcomp)"
   ]
  },
  {
   "cell_type": "markdown",
   "metadata": {},
   "source": [
    "#### Mutability\n",
    "\n",
    "- mutable objects allow modification after creation\n",
    "  - lists, sets, dicts, and custom objects\n",
    "- immutable objects do not allow modification after creation\n",
    "  - int, float, boolean and tuple\n",
    "- the memory location of mutable objects do not change when some of the value change - this is not true with immutable objects"
   ]
  },
  {
   "cell_type": "code",
   "execution_count": 3,
   "metadata": {},
   "outputs": [
    {
     "name": "stdout",
     "output_type": "stream",
     "text": [
      "1928023730608\n",
      "1928023730640\n",
      "1928126359360 1928023730480\n",
      "1928126359360 1928023730768\n"
     ]
    }
   ],
   "source": [
    "# immutable objects - numbers, float, booleans, tuples\n",
    "x = 5\n",
    "print(id(x))\n",
    "\n",
    "x = x + 1\n",
    "print(id(x))  # x's address is changed.\n",
    "\n",
    "# mutable objects\n",
    "my_list = [1, 2, 3, 4]\n",
    "print(id(my_list), id(my_list[0]))\n",
    "\n",
    "my_list[0] = 10\n",
    "print(id(my_list), id(my_list[0]))  # my_list address is not changed."
   ]
  },
  {
   "cell_type": "markdown",
   "metadata": {},
   "source": [
    "#### Sorting"
   ]
  },
  {
   "cell_type": "code",
   "execution_count": 9,
   "metadata": {},
   "outputs": [
    {
     "name": "stdout",
     "output_type": "stream",
     "text": [
      "[-9, -5, 0, 4, 8, 10, 34, 100]\n",
      "[100, 34, 10, 8, 4, 0, -5, -9]\n",
      "['Adam', 'Ana', 'Daniel', 'Joe', 'Kevin', 'Michael']\n",
      "[('Adam Smith', 34), ('Albert Camus', 56), ('Jean-Paul Sartre', 31), ('Kurt Godel', 45)]\n",
      "('Adam Smith', 34)\n"
     ]
    }
   ],
   "source": [
    "nums = [10, -5, 0, 4, 8, -9, 34, 100]\n",
    "\n",
    "# sorted function always return a list\n",
    "result = sorted(nums)  \n",
    "print(result)\n",
    "\n",
    "result_reverse = sorted(nums, reverse=True)\n",
    "print(result_reverse)\n",
    "\n",
    "names = ['Adam', 'Kevin', 'Ana', 'Joe', 'Daniel', 'Michael']\n",
    "sorted_names = sorted(names)\n",
    "print(sorted_names)\n",
    "\n",
    "# sorted fuunction has the KEY parameter - we can define the logic behind sorting\n",
    "texts = ['This', 'This is a ', 'T', 'This is the longest string']\n",
    "sorted(texts, key=len)\n",
    "\n",
    "# sort dict\n",
    "people = {'Adam Smith': 34, 'Albert Camus': 56, 'Kurt Godel': 45, 'Jean-Paul Sartre': 31}\n",
    "sorted_people = sorted(people.items(), key=lambda x: x[0])  # item() returns the key values\n",
    "print(sorted_people)\n",
    "print(sorted_people[0])"
   ]
  },
  {
   "cell_type": "markdown",
   "metadata": {},
   "source": [
    "## Object Oriented Programming"
   ]
  },
  {
   "cell_type": "code",
   "execution_count": 14,
   "metadata": {},
   "outputs": [
    {
     "name": "stdout",
     "output_type": "stream",
     "text": [
      "Kevin\n",
      "My name is Kevin\n"
     ]
    }
   ],
   "source": [
    "class Person:\n",
    "    name = 'Kevin'\n",
    "\n",
    "    def show_name(self):\n",
    "        print('My name is ' + self.name)\n",
    "\n",
    "p = Person()\n",
    "print(p.name)\n",
    "p.show_name()"
   ]
  },
  {
   "cell_type": "code",
   "execution_count": 18,
   "metadata": {},
   "outputs": [
    {
     "name": "stdout",
     "output_type": "stream",
     "text": [
      "Kevin\n",
      "My name is Kevin and my age is 25\n",
      "My name is David and my age is 20\n"
     ]
    }
   ],
   "source": [
    "# Using init\n",
    "class Person:\n",
    "    def __init__(self, name, age):\n",
    "        self.name = name\n",
    "        self.age = age\n",
    "\n",
    "    def show_name(self):\n",
    "        print(f'My name is {self.name} and my age is {self.age}')\n",
    "\n",
    "p = Person('Kevin', 25)\n",
    "q = Person(age=20, name='David')  # Use keyword argument\n",
    "print(p.name)\n",
    "p.show_name()\n",
    "\n",
    "q.show_name()"
   ]
  },
  {
   "cell_type": "code",
   "execution_count": 22,
   "metadata": {},
   "outputs": [
    {
     "name": "stdout",
     "output_type": "stream",
     "text": [
      "Kevin\n",
      "My name is Kevin and my age is 25\n",
      "My name is David and my age is 20\n",
      "male male\n",
      "['person1', 'person2']\n",
      "['person1', 'person2']\n"
     ]
    }
   ],
   "source": [
    "# Class Variable vs. Instance Variable\n",
    "\n",
    "class Person:\n",
    "    # class variable\n",
    "    gender = 'male'\n",
    "    person_list = []\n",
    "\n",
    "    def __init__(self, name, age):\n",
    "        self.name = name\n",
    "        self.age = age\n",
    "\n",
    "    def show_name(self):\n",
    "        print(f'My name is {self.name} and my age is {self.age}')\n",
    "    \n",
    "    def add_value(self, value):\n",
    "        self.person_list.append(value)\n",
    "\n",
    "p = Person('Kevin', 25)\n",
    "q = Person(age=20, name='David')  # Use keyword argument\n",
    "print(p.name)\n",
    "p.show_name()\n",
    "q.show_name()\n",
    "print(p.gender, q.gender)\n",
    "\n",
    "p.add_value('person1')\n",
    "q.add_value('person2')\n",
    "print(p.person_list)\n",
    "print(q.person_list)"
   ]
  },
  {
   "cell_type": "code",
   "execution_count": 25,
   "metadata": {},
   "outputs": [
    {
     "name": "stdout",
     "output_type": "stream",
     "text": [
      "The user is Adam Smith and the age is 35\n",
      "This is from FacebookUser class.\n"
     ]
    }
   ],
   "source": [
    "# super()\n",
    "\n",
    "class User:\n",
    "    def __init__(self, name, age):\n",
    "        self.name = name\n",
    "        self.age = age\n",
    "    \n",
    "    def show_user(self):\n",
    "        print(f'The user is {self.name} and the age is {self.age}')\n",
    "    \n",
    "    def show_info(self):\n",
    "        print('This is from User class.')\n",
    "\n",
    "class FacebookUser(User):\n",
    "    # super keyword is going to call the parent class\n",
    "    def __init__(self, name, age):\n",
    "        super().__init__(name, age)\n",
    "    \n",
    "    def show_info(self):\n",
    "        print('This is from FacebookUser class.')\n",
    "\n",
    "facebook_user = FacebookUser('Adam Smith', 35)\n",
    "facebook_user.show_user()\n",
    "facebook_user.show_info()\n"
   ]
  },
  {
   "cell_type": "code",
   "execution_count": 26,
   "metadata": {},
   "outputs": [
    {
     "name": "stdout",
     "output_type": "stream",
     "text": [
      "InsertionSort is running...\n",
      "SelectionSort is running...\n",
      "QuickSort is running...\n"
     ]
    }
   ],
   "source": [
    "# Abstraction and Polymorphism\n",
    "\n",
    "class SortingAlgorithm:\n",
    "    def sort(self):\n",
    "        pass\n",
    "\n",
    "class InsertionSort(SortingAlgorithm):\n",
    "    def sort(self):\n",
    "        print('InsertionSort is running...')\n",
    "\n",
    "class SelectionSort(SortingAlgorithm):\n",
    "    def sort(self):\n",
    "        print('SelectionSort is running...')\n",
    "\n",
    "class QuickSort(SortingAlgorithm):\n",
    "    def sort(self):\n",
    "        print('QuickSort is running...')\n",
    "\n",
    "sort_algo = [InsertionSort(), SelectionSort(), QuickSort()]\n",
    "\n",
    "sort_algo[0].sort()\n",
    "sort_algo[1].sort()\n",
    "sort_algo[2].sort()"
   ]
  },
  {
   "cell_type": "markdown",
   "metadata": {},
   "source": [
    "## Numpy"
   ]
  },
  {
   "cell_type": "code",
   "execution_count": 38,
   "metadata": {},
   "outputs": [
    {
     "name": "stdout",
     "output_type": "stream",
     "text": [
      "[1 2 3 4 5 6]\n",
      "(6,)\n",
      "\n",
      "[[1 2 3]\n",
      " [4 5 6]]\n",
      "(2, 3)\n",
      "\n",
      "[[1 2]\n",
      " [3 4]\n",
      " [5 6]]\n",
      "(3, 2)\n",
      "\n",
      "[[1]\n",
      " [2]\n",
      " [3]\n",
      " [4]\n",
      " [5]\n",
      " [6]]\n",
      "(6, 1)\n",
      "\n",
      "[[1]\n",
      " [2]\n",
      " [3]\n",
      " [4]\n",
      " [5]\n",
      " [6]]\n",
      "(6, 1)\n",
      "\n",
      "[[1 2 3]\n",
      " [4 5 6]]\n",
      "(2, 3)\n",
      "\n",
      "[[1 2 3 4 5 6]]\n",
      "(1, 6)\n",
      "\n",
      "[[1]\n",
      " [2]\n",
      " [3]\n",
      " [4]\n",
      " [5]\n",
      " [6]]\n",
      "(6, 1)\n",
      "\n"
     ]
    }
   ],
   "source": [
    "import numpy as np\n",
    "\n",
    "# Reshape\n",
    "# the shape is the number of items in each dimension\n",
    "def print_shape(nums):\n",
    "    print(nums)\n",
    "    print(nums.shape)\n",
    "    print()\n",
    "\n",
    "nums = np.array([1, 2, 3, 4, 5, 6])\n",
    "print_shape(nums)\n",
    "\n",
    "nums = nums.reshape(2, 3)\n",
    "print_shape(nums)\n",
    "\n",
    "nums = nums.reshape(3, 2)\n",
    "print_shape(nums)\n",
    "\n",
    "nums = nums.reshape(6, 1)\n",
    "print_shape(nums)\n",
    "\n",
    "# We can use -1 : unkonwn dimension\n",
    "nums = nums.reshape(6, -1)  # same as reshape(6, 1)\n",
    "print_shape(nums)\n",
    "\n",
    "nums = nums.reshape(-1, 3)\n",
    "print_shape(nums)\n",
    "\n",
    "nums = nums.reshape(1, -1)\n",
    "print_shape(nums)\n",
    "\n",
    "nums = nums.reshape(-1, 1)\n",
    "print_shape(nums)"
   ]
  },
  {
   "cell_type": "code",
   "execution_count": 43,
   "metadata": {},
   "outputs": [
    {
     "name": "stdout",
     "output_type": "stream",
     "text": [
      "[[1 2 3]\n",
      " [7 8 9]]\n",
      "(2, 3)\n",
      "\n",
      "[[ 1  2  3]\n",
      " [ 7  8  9]\n",
      " [ 5  6  7]\n",
      " [10 11 12]]\n",
      "(4, 3)\n",
      "\n",
      "[[ 1  2  3  5  6  7]\n",
      " [ 7  8  9 10 11 12]]\n",
      "(2, 6)\n",
      "\n",
      "[[[ 1  2  3]\n",
      "  [ 7  8  9]]\n",
      "\n",
      " [[ 5  6  7]\n",
      "  [10 11 12]]]\n",
      "(2, 2, 3)\n",
      "\n",
      "[[[ 1  2  3]\n",
      "  [ 5  6  7]]\n",
      "\n",
      " [[ 7  8  9]\n",
      "  [10 11 12]]]\n",
      "(2, 2, 3)\n",
      "\n"
     ]
    }
   ],
   "source": [
    "# stacking and merging arrays\n",
    "\n",
    "import numpy as np\n",
    "\n",
    "a = np.array([[1, 2, 3], [7, 8,9]])\n",
    "b = np.array([[5, 6, 7], [10, 11, 12]])\n",
    "print_shape(a)\n",
    "\n",
    "# Vertical Stack\n",
    "result = np.vstack((a, b))\n",
    "print_shape(result)\n",
    "\n",
    "# Horizontal Stack\n",
    "result = np.hstack((a, b))\n",
    "print_shape(result)\n",
    "\n",
    "# Stack\n",
    "result = np.stack((a, b), axis=0)\n",
    "print_shape(result)\n",
    "\n",
    "result = np.stack((a, b), axis=1)\n",
    "print_shape(result)"
   ]
  },
  {
   "cell_type": "code",
   "execution_count": 47,
   "metadata": {},
   "outputs": [
    {
     "name": "stdout",
     "output_type": "stream",
     "text": [
      "[1 2 5 7]\n",
      "[1 2 3]\n"
     ]
    }
   ],
   "source": [
    "# Filtering\n",
    "\n",
    "import numpy as np\n",
    "\n",
    "a = np.array([1, 2, 3, 4, 5, 6, 7, 8])\n",
    "boolean_array = [True, True, False, False, True, False, True, False]\n",
    "\n",
    "result = a[boolean_array]\n",
    "print(result)\n",
    "\n",
    "result = a < 4\n",
    "print(a[result])"
   ]
  },
  {
   "cell_type": "code",
   "execution_count": 48,
   "metadata": {},
   "outputs": [
    {
     "name": "stdout",
     "output_type": "stream",
     "text": [
      "Python time: 1.0117840766906738s\n",
      "NumPy time: 0.02307605743408203s\n",
      "Numpy is 43.84562135801959x faster!\n"
     ]
    }
   ],
   "source": [
    "import time\n",
    "import numpy as np\n",
    " \n",
    "# manipulating a 10 million items\n",
    "n = 10000000\n",
    " \n",
    " \n",
    "def numpy_add():\n",
    "    # time in seconds\n",
    "    now = time.time()\n",
    "    # generating a 10 million items\n",
    "    x = np.arange(n)\n",
    "    # generating a 10 million items\n",
    "    y = np.arange(n)\n",
    "    result = x + y\n",
    "    return time.time() - now\n",
    " \n",
    " \n",
    "def python_add():\n",
    "    # time in seconds\n",
    "    now = time.time()\n",
    "    # generating a 10 million items\n",
    "    x = range(n)\n",
    "    # generating a 10 million items\n",
    "    y = range(n)\n",
    "    result = [x[i] + y[i] for i in range(len(x))]\n",
    "    return time.time() - now\n",
    " \n",
    " \n",
    "time_python = python_add()\n",
    "time_numpy = numpy_add()\n",
    "print('Python time: ' + str(time_python) + 's')\n",
    "print('NumPy time: ' + str(time_numpy) + 's')\n",
    "print(\"Numpy is \" + str(time_python/time_numpy) + \"x faster!\")"
   ]
  },
  {
   "cell_type": "code",
   "execution_count": null,
   "metadata": {},
   "outputs": [],
   "source": []
  }
 ],
 "metadata": {
  "kernelspec": {
   "display_name": "Python 3.10.7 64-bit",
   "language": "python",
   "name": "python3"
  },
  "language_info": {
   "codemirror_mode": {
    "name": "ipython",
    "version": 3
   },
   "file_extension": ".py",
   "mimetype": "text/x-python",
   "name": "python",
   "nbconvert_exporter": "python",
   "pygments_lexer": "ipython3",
   "version": "3.10.7"
  },
  "orig_nbformat": 4,
  "vscode": {
   "interpreter": {
    "hash": "a9e2c7703114bb33d9bb95f9f1c7ade36d0cd0b5dec40cd5c5afcfa9f59c771a"
   }
  }
 },
 "nbformat": 4,
 "nbformat_minor": 2
}
