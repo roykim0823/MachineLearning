{
 "cells": [
  {
   "cell_type": "markdown",
   "id": "4f0c5fc9",
   "metadata": {},
   "source": [
    "### Convolutions (Naive, MM, im2col, Winograd)\n",
    "#### Naive"
   ]
  },
  {
   "cell_type": "code",
   "execution_count": 3,
   "id": "832294de",
   "metadata": {},
   "outputs": [],
   "source": [
    "import numpy as np\n",
    "\n",
    "input_matrix = np.array([[3., 9., 0.], [2., 8., 1.], [1., 4., 8.]])\n",
    "kernel = np.array([[8., 9.], [4., 4.]])\n",
    "\n",
    "bias = np.array([0.06])\n",
    "\n"
   ]
  },
  {
   "cell_type": "code",
   "execution_count": 13,
   "id": "86a25eaa",
   "metadata": {},
   "outputs": [],
   "source": [
    "# Naive 2D conv\n",
    "def conv_2d(x, kernel, bias):\n",
    "    kernel_shape = kernel.shape[0]\n",
    "    \n",
    "    # Assuming Padding = 0, stride = 1\n",
    "    output_shape = x.shape[0] - kernel_shape + 1\n",
    "    result = np.zeros((output_shape, output_shape))\n",
    "    \n",
    "    for row in range(x.shape[0] - 1):\n",
    "        for col in range(x.shape[1] - 1):\n",
    "            window = x[row: row + kernel_shape, col: col + kernel_shape]\n",
    "            result[row, col] = np.sum(np.multiply(kernel, window))\n",
    "    return result + bias\n",
    "\n"
   ]
  },
  {
   "cell_type": "code",
   "execution_count": 14,
   "id": "2cdf83e9",
   "metadata": {},
   "outputs": [
    {
     "name": "stdout",
     "output_type": "stream",
     "text": [
      "[[145.06 108.06]\n",
      " [108.06 121.06]]\n"
     ]
    }
   ],
   "source": [
    "print(conv_2d(input_matrix, kernel, bias))"
   ]
  },
  {
   "cell_type": "markdown",
   "id": "3cf4ed1f",
   "metadata": {},
   "source": [
    "#### Conv2D with im2col "
   ]
  },
  {
   "cell_type": "code",
   "execution_count": 19,
   "id": "bdc8ee03",
   "metadata": {},
   "outputs": [],
   "source": [
    "# im2col: Image Block to Column\n",
    "\n",
    "def naive_im2col(x, kernel):\n",
    "    kernel_shape = kernel.shape[0]\n",
    "    rows = []\n",
    "    \n",
    "    # Assuming Padding = 0, stride = 1\n",
    "    for row in range(x.shape[0] - 1):\n",
    "        for col in range(x.shape[1] - 1):\n",
    "            window = x[row: row + kernel_shape, col: col + kernel_shape]\n",
    "            rows.append(window.flatten())\n",
    "            \n",
    "    return np.transpose(np.array(rows))"
   ]
  },
  {
   "cell_type": "code",
   "execution_count": 20,
   "id": "5bc30986",
   "metadata": {},
   "outputs": [
    {
     "name": "stdout",
     "output_type": "stream",
     "text": [
      "[[3. 9. 2. 8.]\n",
      " [9. 0. 8. 1.]\n",
      " [2. 8. 1. 4.]\n",
      " [8. 1. 4. 8.]]\n",
      "[[145.06 108.06]\n",
      " [108.06 121.06]]\n"
     ]
    }
   ],
   "source": [
    "# Conv2d with im2col\n",
    "\n",
    "output_shape = (input_matrix.shape[0] - kernel.shape[0]) + 1\n",
    "\n",
    "im2col_matrix = naive_im2col(input_matrix, kernel) \n",
    "print(im2col_matrix)\n",
    "\n",
    "# np.dot exploits the vectorization of operations, still not the best case\n",
    "im2col_conv = np.dot(kernel.flatten(), im2col_matrix) + bias\n",
    "im2col_conv = im2col_conv.reshape(output_shape,output_shape)\n",
    "print(im2col_conv)"
   ]
  },
  {
   "cell_type": "code",
   "execution_count": 38,
   "id": "39f6841f",
   "metadata": {},
   "outputs": [
    {
     "name": "stdout",
     "output_type": "stream",
     "text": [
      "[[1 2 3]\n",
      " [4 5 6]\n",
      " [7 8 9]]\n",
      "[[1 2 3 4]\n",
      " [2 3 4 5]\n",
      " [3 4 5 6]\n",
      " [4 5 6 7]\n",
      " [5 6 7 8]]\n"
     ]
    }
   ],
   "source": [
    "# np memory stride\n",
    "x = np.array([[1,2,3], [4,5,6], [7,8,9]])\n",
    "print(x)\n",
    "\n",
    "# instead of jumping 12 bytes (3 elements) to start the next row, \n",
    "# we used 'as_strided' to jump only 4 bytes (1 element)\n",
    "x_newview = np.lib.stride_tricks.as_strided(x, shape = (5, 4), strides = (4, 4))\n",
    "\n",
    "print(x_newview)"
   ]
  },
  {
   "cell_type": "code",
   "execution_count": 39,
   "id": "99362da1",
   "metadata": {},
   "outputs": [
    {
     "name": "stdout",
     "output_type": "stream",
     "text": [
      "[[  1   2   3   4]\n",
      " [  2   3   4 -99]\n",
      " [  3   4 -99   6]\n",
      " [  4 -99   6   7]\n",
      " [-99   6   7   8]]\n",
      "[[  1   2   3]\n",
      " [  4 -99   6]\n",
      " [  7   8   9]]\n"
     ]
    }
   ],
   "source": [
    "x_newview[1,3] = -99\n",
    "print(x_newview)\n",
    "print(x)"
   ]
  },
  {
   "cell_type": "code",
   "execution_count": 8,
   "id": "943d0993",
   "metadata": {},
   "outputs": [
    {
     "name": "stdout",
     "output_type": "stream",
     "text": [
      "[[3. 9. 0.]\n",
      " [2. 8. 1.]\n",
      " [1. 4. 8.]]\n",
      "\n",
      "[[8. 9.]\n",
      " [4. 4.]]\n",
      "\n",
      "[[[[3. 9.]\n",
      "   [2. 8.]]\n",
      "\n",
      "  [[9. 0.]\n",
      "   [8. 1.]]]\n",
      "\n",
      "\n",
      " [[[2. 8.]\n",
      "   [1. 4.]]\n",
      "\n",
      "  [[8. 1.]\n",
      "   [4. 8.]]]]\n",
      "\n",
      "[[3. 9. 2. 8.]\n",
      " [9. 0. 8. 1.]\n",
      " [2. 8. 1. 4.]\n",
      " [8. 1. 4. 8.]]\n"
     ]
    }
   ],
   "source": [
    "from skimage.util.shape import view_as_windows\n",
    "\n",
    "print(input_matrix)\n",
    "print()\n",
    "print(kernel)\n",
    "print()\n",
    "\n",
    "windows = view_as_windows(input_matrix, kernel.shape)\n",
    "print(windows)\n",
    "print()\n",
    "\n",
    "# reshape\n",
    "output_shape = (input_matrix.shape[0] - kernel.shape[0]) + 1\n",
    "windows = windows.reshape(output_shape**2, kernel.shape[0]*2)\n",
    "print(windows)"
   ]
  },
  {
   "cell_type": "code",
   "execution_count": 10,
   "id": "8f880051",
   "metadata": {},
   "outputs": [],
   "source": [
    "# Final function\n",
    "def memory_strided_im2col(x, kernel):\n",
    "    output_shape = (x.shape[0] - kernel.shape[0]) + 1\n",
    "    return view_as_windows(x, kernel.shape).reshape(output_shape*output_shape, kernel.shape[0]*2)"
   ]
  },
  {
   "cell_type": "code",
   "execution_count": 11,
   "id": "e6601a27",
   "metadata": {},
   "outputs": [
    {
     "name": "stdout",
     "output_type": "stream",
     "text": [
      "[[145.06 108.06]\n",
      " [108.06 121.06]]\n"
     ]
    }
   ],
   "source": [
    "output_shape = (input_matrix.shape[0] - kernel.shape[0]) + 1\n",
    "mem_strided_mat = memory_strided_im2col(input_matrix, kernel) \n",
    "\n",
    "mem_strided_conv = np.dot(kernel.flatten(), mem_strided_mat) + bias\n",
    "mem_strided_conv = mem_strided_conv.r\n",
    "\n",
    "# ref\n",
    "# https://towardsdatascience.com/how-are-convolutions-actually-performed-under-the-hood-226523ce7fbf\n"
   ]
  },
  {
   "cell_type": "markdown",
   "id": "89ba2052",
   "metadata": {},
   "source": [
    "### Winograd"
   ]
  },
  {
   "cell_type": "code",
   "execution_count": 12,
   "id": "585c372a",
   "metadata": {},
   "outputs": [
    {
     "ename": "SyntaxError",
     "evalue": "incomplete input (3338453150.py, line 2)",
     "output_type": "error",
     "traceback": [
      "\u001b[1;36m  Input \u001b[1;32mIn [12]\u001b[1;36m\u001b[0m\n\u001b[1;33m    \u001b[0m\n\u001b[1;37m    ^\u001b[0m\n\u001b[1;31mSyntaxError\u001b[0m\u001b[1;31m:\u001b[0m incomplete input\n"
     ]
    }
   ],
   "source": [
    "# def winograd(im2coled_input, kernel):\n",
    "# https://medium.com/@dmangla3/understanding-winograd-fast-convolution-a75458744ff\n",
    "    "
   ]
  }
 ],
 "metadata": {
  "kernelspec": {
   "display_name": "Python 3.10.7 64-bit",
   "language": "python",
   "name": "python3"
  },
  "language_info": {
   "codemirror_mode": {
    "name": "ipython",
    "version": 3
   },
   "file_extension": ".py",
   "mimetype": "text/x-python",
   "name": "python",
   "nbconvert_exporter": "python",
   "pygments_lexer": "ipython3",
   "version": "3.10.7"
  },
  "vscode": {
   "interpreter": {
    "hash": "a9e2c7703114bb33d9bb95f9f1c7ade36d0cd0b5dec40cd5c5afcfa9f59c771a"
   }
  }
 },
 "nbformat": 4,
 "nbformat_minor": 5
}
