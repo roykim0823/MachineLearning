{
 "cells": [
  {
   "cell_type": "code",
   "execution_count": 56,
   "metadata": {},
   "outputs": [
    {
     "data": {
      "image/png": "[encoded data removed]",
      "text/plain": [
       "<Figure size 432x288 with 1 Axes>"
      ]
     },
     "metadata": {
      "needs_background": "light"
     },
     "output_type": "display_data"
    }
   ],
   "source": [
    "import matplotlib.pyplot as plt\n",
    "X = [ [6], [8], [10], [14],   [18]]\n",
    "y = [ [7], [9], [13], [17.5], [18]]\n",
    "plt.figure()\n",
    "plt.title('Pizza price plotted against diameter')\n",
    "plt.xlabel('Diameter in inches')\n",
    "plt.ylabel('Price in dollars')\n",
    "plt.plot(X, y, 'k.')\n",
    "plt.axis([0, 25, 0, 25])\n",
    "plt.grid(True)\n",
    "plt.show()"
   ]
  },
  {
   "cell_type": "code",
   "execution_count": 57,
   "metadata": {},
   "outputs": [
    {
     "name": "stdout",
     "output_type": "stream",
     "text": [
      "A 12 pizza should cost : $13.68\n",
      "A 8 pizza should cost : $9.78\n",
      "A 20 pizza should cost : $21.49\n"
     ]
    }
   ],
   "source": [
    "from sklearn.linear_model import LinearRegression\n",
    "# Training Data\n",
    "X = [ [6], [8], [10], [14],   [18]]\n",
    "y = [ [7], [9], [13], [17.5], [18]]\n",
    "\n",
    "# Create and fit the model\n",
    "model = LinearRegression()\n",
    "model.fit(X, y)\n",
    "\n",
    "def pizzaPrice(inch):\n",
    "    print('A %d pizza should cost : $%.2f' % (inch, model.predict([[inch]])[0]))\n",
    "\n",
    "pizzaPrice(12)\n",
    "pizzaPrice(8)\n",
    "pizzaPrice(20)"
   ]
  },
  {
   "cell_type": "code",
   "execution_count": 58,
   "metadata": {},
   "outputs": [
    {
     "name": "stdout",
     "output_type": "stream",
     "text": [
      "Residual sum of squares: 1.75\n"
     ]
    }
   ],
   "source": [
    "import numpy as np\n",
    "print('Residual sum of squares: %.2f' % np.mean((model.predict(X)-y)**2))"
   ]
  },
  {
   "cell_type": "code",
   "execution_count": 59,
   "metadata": {},
   "outputs": [
    {
     "name": "stdout",
     "output_type": "stream",
     "text": [
      "23.2\n",
      "23.2\n"
     ]
    }
   ],
   "source": [
    "from __future__ import division\n",
    "xbar = (6 + 8 + 10 + 14+ 18)/5\n",
    "variance = 0.0;\n",
    "for x in X:\n",
    "    variance += (x[0]-xbar)**2\n",
    "variance = variance / (len(X)-1)\n",
    "print(variance)\n",
    "print(np.var(X, ddof=1)) # ddof=\"Delta Degrees of Freedom\": the divisor = N - ddof"
   ]
  },
  {
   "cell_type": "code",
   "execution_count": 62,
   "metadata": {},
   "outputs": [
    {
     "name": "stdout",
     "output_type": "stream",
     "text": [
      "22.65\n",
      "[[23.2  22.65]\n",
      " [22.65 24.3 ]]\n",
      "22.650000000000002\n"
     ]
    }
   ],
   "source": [
    "ybar = 0\n",
    "for yi in y:\n",
    "    ybar+=yi[0]\n",
    "ybar = ybar / len(y)\n",
    "cov = 0.0\n",
    "xList=[]\n",
    "yList=[]\n",
    "for (xi, yi) in zip(X, y):\n",
    "    cov += (xi[0]-xbar) * (yi[0]-ybar)\n",
    "    xList.append(xi[0])\n",
    "    yList.append(yi[0])\n",
    "cov = cov / (len(X)-1)\n",
    "print(cov)\n",
    "print(np.cov(xList, yList))\n",
    "print(np.cov(xList, yList)[0][1])"
   ]
  },
  {
   "cell_type": "code",
   "execution_count": 64,
   "metadata": {},
   "outputs": [
    {
     "name": "stdout",
     "output_type": "stream",
     "text": [
      "R-squared: 0.6620\n"
     ]
    }
   ],
   "source": [
    "X_test = [[8], [9], [11], [16], [12]]\n",
    "y_test = [[11],[8.5], [15], [18], [11]]\n",
    "model = LinearRegression()\n",
    "model.fit(X, y)\n",
    "print('R-squared: %.4f' % model.score(X_test, y_test))"
   ]
  },
  {
   "cell_type": "code",
   "execution_count": null,
   "metadata": {},
   "outputs": [],
   "source": []
  }
 ],
 "metadata": {
  "kernelspec": {
   "display_name": "Python 3",
   "language": "python",
   "name": "python3"
  },
  "language_info": {
   "codemirror_mode": {
    "name": "ipython",
    "version": 3
   },
   "file_extension": ".py",
   "mimetype": "text/x-python",
   "name": "python",
   "nbconvert_exporter": "python",
   "pygments_lexer": "ipython3",
   "version": "3.7.1"
  }
 },
 "nbformat": 4,
 "nbformat_minor": 2
}
